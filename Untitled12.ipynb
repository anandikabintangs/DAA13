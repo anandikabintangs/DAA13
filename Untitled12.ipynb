{
  "nbformat": 4,
  "nbformat_minor": 0,
  "metadata": {
    "colab": {
      "provenance": []
    },
    "kernelspec": {
      "name": "python3",
      "display_name": "Python 3"
    },
    "language_info": {
      "name": "python"
    }
  },
  "cells": [
    {
      "cell_type": "code",
      "execution_count": 20,
      "metadata": {
        "id": "hsSB4pSYFi1g"
      },
      "outputs": [],
      "source": [
        "def bfs(graph, start):\n",
        "  visited = []\n",
        "  queue = [start]\n",
        "\n",
        "  while queue:\n",
        "    node = queue.pop(0)\n",
        "    if node not in visited:\n",
        "      visited.append(node)\n",
        "      neighbours = graph[node]\n",
        "      for neighbour in neighbours :\n",
        "        queue.append(neighbour)\n",
        "  return visited"
      ]
    },
    {
      "cell_type": "code",
      "source": [
        "graph={'Amin' : {'Wasim', 'Nick', 'Mike'},\n",
        "       'Wasim' : {'Imran', 'Amin'},\n",
        "       'Imran' : {'Wasim','Faras'},\n",
        "       'Faras' : {'Imran'},\n",
        "       'Mike' : {'Amin'},\n",
        "       'Nick' : {'Amin'}}"
      ],
      "metadata": {
        "id": "NFIpxucHIC3n"
      },
      "execution_count": 21,
      "outputs": []
    },
    {
      "cell_type": "code",
      "source": [
        "#O Amin------------\n",
        "#|        |       |\n",
        "#O Wasim  O Nick  O Mike\n",
        "#|\n",
        "#O Imran\n",
        "#|\n",
        "#O Faras\n",
        "\n",
        "bfs(graph, 'Amin')"
      ],
      "metadata": {
        "colab": {
          "base_uri": "https://localhost:8080/"
        },
        "id": "vdHw7pHwI0ti",
        "outputId": "c313a1bc-8cab-46e7-aee4-f759ba87384d"
      },
      "execution_count": 22,
      "outputs": [
        {
          "output_type": "execute_result",
          "data": {
            "text/plain": [
              "['Amin', 'Mike', 'Wasim', 'Nick', 'Imran', 'Faras']"
            ]
          },
          "metadata": {},
          "execution_count": 22
        }
      ]
    },
    {
      "cell_type": "code",
      "source": [
        "#O Wasim-------\n",
        "#|            |\n",
        "#O Imran      O Amin-----\n",
        "#|            |         |\n",
        "#O Faras      O Nick    O Mike\n",
        "bfs(graph,'Wasim')"
      ],
      "metadata": {
        "colab": {
          "base_uri": "https://localhost:8080/"
        },
        "id": "PV_1JxXWI5Q9",
        "outputId": "fd9cd671-b968-4693-a1df-1d8f43d1d116"
      },
      "execution_count": 23,
      "outputs": [
        {
          "output_type": "execute_result",
          "data": {
            "text/plain": [
              "['Wasim', 'Amin', 'Imran', 'Mike', 'Nick', 'Faras']"
            ]
          },
          "metadata": {},
          "execution_count": 23
        }
      ]
    },
    {
      "cell_type": "code",
      "source": [
        "#O Faras\n",
        "#|\n",
        "#O Imran\n",
        "#|\n",
        "#O Wasim  O Nick  O Mike\n",
        "#|        |       |\n",
        "#O Amin------------\n",
        "bfs(graph, 'Faras')"
      ],
      "metadata": {
        "colab": {
          "base_uri": "https://localhost:8080/"
        },
        "id": "klZrNi3xI7_e",
        "outputId": "6b1917fd-b80b-4785-d81d-a6b7b387b0cd"
      },
      "execution_count": 24,
      "outputs": [
        {
          "output_type": "execute_result",
          "data": {
            "text/plain": [
              "['Faras', 'Imran', 'Wasim', 'Amin', 'Mike', 'Nick']"
            ]
          },
          "metadata": {},
          "execution_count": 24
        }
      ]
    },
    {
      "cell_type": "code",
      "source": [
        "graph={'Rektor' : {'Warek1', 'Warek2'},\n",
        "       'Warek1' : {'Rektor'},\n",
        "       'Warek2' : {'Rektor','Kaprodi1', 'Kaprodi2','Kaprodi3'},\n",
        "       'Kaprodi1' : {'Warek2','Dosen A','Dosen B','Dosen C'},\n",
        "       'Dosen A' : {'Kaprodi1'},\n",
        "       'Dosen B' : {'Kaprodi1'},\n",
        "       'Dosen C' : {'Kaprodi1'},\n",
        "       'Kaprodi2' : {'Warek2','Dosen D','Dosen E'},\n",
        "       'Dosen D' : {'Kaprodi2'},\n",
        "       'Dosen E' : {'Kaprodi2'},\n",
        "       'Kaprodi3' : {'Warek2','Dosen F','Dosen G'},\n",
        "       'Dosen F': {'Kaprodi3'},\n",
        "       'Dosen G' : {'Kaprodi3'}}"
      ],
      "metadata": {
        "id": "uaFGF4LAJIka"
      },
      "execution_count": 18,
      "outputs": []
    },
    {
      "cell_type": "code",
      "source": [
        "bfs(graph, 'Rektor')"
      ],
      "metadata": {
        "colab": {
          "base_uri": "https://localhost:8080/"
        },
        "id": "TwnMWwI2K6h4",
        "outputId": "86c267fa-317a-4c5e-c1d1-c5c510acc5eb"
      },
      "execution_count": 17,
      "outputs": [
        {
          "output_type": "execute_result",
          "data": {
            "text/plain": [
              "['Rektor',\n",
              " 'Warek1',\n",
              " 'Warek2',\n",
              " 'Kaprodi3',\n",
              " 'Kaprodi1',\n",
              " 'Kaprodi2',\n",
              " 'Dosen G',\n",
              " 'Dosen F',\n",
              " 'Dosen C',\n",
              " 'Dosen A',\n",
              " 'Dosen B',\n",
              " 'Dosen D',\n",
              " 'Dosen E']"
            ]
          },
          "metadata": {},
          "execution_count": 17
        }
      ]
    },
    {
      "cell_type": "code",
      "source": [
        "def dfs(graph, start, visited=None):\n",
        "  if visited is None:\n",
        "    visited = set()\n",
        "  visited.add(start)\n",
        "  print(start)\n",
        "  for next in graph[start] - visited:\n",
        "    dfs(graph, next, visited)\n",
        "  return visited"
      ],
      "metadata": {
        "id": "9zbzcrG3OaNM"
      },
      "execution_count": 26,
      "outputs": []
    },
    {
      "cell_type": "code",
      "source": [
        "graph={ 'Amin' : {'Wasim', 'Nick', 'Mike'},\n",
        "       'Wasim' : {'Imran', 'Amin'},\n",
        "       'Imran' : {'Wasim','Faras'},\n",
        "       'Faras' : {'Imran'},\n",
        "       'Mike' : {'Amin'},\n",
        "       'Nick' : {'Amin'}}"
      ],
      "metadata": {
        "id": "HLUfOKVvSXm8"
      },
      "execution_count": 27,
      "outputs": []
    },
    {
      "cell_type": "code",
      "source": [
        "#O Amin -----------\n",
        "#|        |       |\n",
        "#O Wasim  O Nick  O Mike\n",
        "#|\n",
        "#O Imran\n",
        "#|\n",
        "#O Faras\n",
        "\n",
        "dfs(graph, 'Amin')"
      ],
      "metadata": {
        "colab": {
          "base_uri": "https://localhost:8080/"
        },
        "id": "0xa-0KS_UXee",
        "outputId": "63679d96-380f-44e5-991f-4be59c6e4ad0"
      },
      "execution_count": 29,
      "outputs": [
        {
          "output_type": "stream",
          "name": "stdout",
          "text": [
            "Amin\n",
            "Mike\n",
            "Wasim\n",
            "Imran\n",
            "Faras\n",
            "Nick\n"
          ]
        },
        {
          "output_type": "execute_result",
          "data": {
            "text/plain": [
              "{'Amin', 'Faras', 'Imran', 'Mike', 'Nick', 'Wasim'}"
            ]
          },
          "metadata": {},
          "execution_count": 29
        }
      ]
    },
    {
      "cell_type": "code",
      "source": [
        "#O Wasim-------\n",
        "#|            |\n",
        "#O Imran      O Amin-----\n",
        "#|            |         |\n",
        "#O Faras      O Nick    O Mike\n",
        "dfs(graph,'Wasim')"
      ],
      "metadata": {
        "colab": {
          "base_uri": "https://localhost:8080/"
        },
        "id": "XPf2jlpJWz9o",
        "outputId": "ccf5b037-54ba-41a6-96a9-81742e8df6ad"
      },
      "execution_count": 30,
      "outputs": [
        {
          "output_type": "stream",
          "name": "stdout",
          "text": [
            "Wasim\n",
            "Amin\n",
            "Mike\n",
            "Nick\n",
            "Imran\n",
            "Faras\n"
          ]
        },
        {
          "output_type": "execute_result",
          "data": {
            "text/plain": [
              "{'Amin', 'Faras', 'Imran', 'Mike', 'Nick', 'Wasim'}"
            ]
          },
          "metadata": {},
          "execution_count": 30
        }
      ]
    },
    {
      "cell_type": "code",
      "source": [
        "#O Faras\n",
        "#|\n",
        "#O Imran\n",
        "#|\n",
        "#O Wasim  O Nick  O Mike\n",
        "#|        |       |\n",
        "#O Amin------------\n",
        "dfs(graph, 'Faras')"
      ],
      "metadata": {
        "colab": {
          "base_uri": "https://localhost:8080/"
        },
        "id": "3j5Yit4XW3wU",
        "outputId": "c935acc9-786c-40b9-ff63-c2f1252bc1d4"
      },
      "execution_count": 31,
      "outputs": [
        {
          "output_type": "stream",
          "name": "stdout",
          "text": [
            "Faras\n",
            "Imran\n",
            "Wasim\n",
            "Amin\n",
            "Mike\n",
            "Nick\n"
          ]
        },
        {
          "output_type": "execute_result",
          "data": {
            "text/plain": [
              "{'Amin', 'Faras', 'Imran', 'Mike', 'Nick', 'Wasim'}"
            ]
          },
          "metadata": {},
          "execution_count": 31
        }
      ]
    },
    {
      "cell_type": "code",
      "source": [
        "#O Nick------\n",
        "#|          |\n",
        "#O Amin     O Mike\n",
        "#|\n",
        "#O Wasim    \n",
        "#|\n",
        "#O Imran\n",
        "#|\n",
        "#O Faras\n",
        "\n",
        "dfs(graph, 'Nick')"
      ],
      "metadata": {
        "colab": {
          "base_uri": "https://localhost:8080/"
        },
        "id": "cDj5uj3sW8KD",
        "outputId": "3f25dda8-12af-46ba-a671-1d7fccd83bb5"
      },
      "execution_count": 32,
      "outputs": [
        {
          "output_type": "stream",
          "name": "stdout",
          "text": [
            "Nick\n",
            "Amin\n",
            "Mike\n",
            "Wasim\n",
            "Imran\n",
            "Faras\n"
          ]
        },
        {
          "output_type": "execute_result",
          "data": {
            "text/plain": [
              "{'Amin', 'Faras', 'Imran', 'Mike', 'Nick', 'Wasim'}"
            ]
          },
          "metadata": {},
          "execution_count": 32
        }
      ]
    },
    {
      "cell_type": "code",
      "source": [
        "graph={'Rektor' : {'Warek1', 'Warek2'},\n",
        "       'Warek1' : {'Rektor'},\n",
        "       'Warek2' : {'Rektor','Kaprodi1', 'Kaprodi2','Kaprodi3'},\n",
        "       'Kaprodi1' : {'Warek2','Dosen A','Dosen B','Dosen C'},\n",
        "       'Dosen A' : {'Kaprodi1'},\n",
        "       'Dosen B' : {'Kaprodi1'},\n",
        "       'Dosen C' : {'Kaprodi1'},\n",
        "       'Kaprodi2' : {'Warek2','Dosen D','Dosen E'},\n",
        "       'Dosen D' : {'Kaprodi2'},\n",
        "       'Dosen E' : {'Kaprodi2'},\n",
        "       'Kaprodi3' : {'Warek2','Dosen F','Dosen G'},\n",
        "       'Dosen F': {'Kaprodi3'},\n",
        "       'Dosen G' : {'Kaprodi3'}}\n",
        "\n",
        "dfs(graph, 'Rektor')"
      ],
      "metadata": {
        "colab": {
          "base_uri": "https://localhost:8080/"
        },
        "id": "nsHkgOdaW_B0",
        "outputId": "a4247a3f-8f79-4eee-9f68-41fe7fc9ec97"
      },
      "execution_count": 33,
      "outputs": [
        {
          "output_type": "stream",
          "name": "stdout",
          "text": [
            "Rektor\n",
            "Warek1\n",
            "Warek2\n",
            "Kaprodi3\n",
            "Dosen G\n",
            "Dosen F\n",
            "Kaprodi1\n",
            "Dosen B\n",
            "Dosen C\n",
            "Dosen A\n",
            "Kaprodi2\n",
            "Dosen D\n",
            "Dosen E\n"
          ]
        },
        {
          "output_type": "execute_result",
          "data": {
            "text/plain": [
              "{'Dosen A',\n",
              " 'Dosen B',\n",
              " 'Dosen C',\n",
              " 'Dosen D',\n",
              " 'Dosen E',\n",
              " 'Dosen F',\n",
              " 'Dosen G',\n",
              " 'Kaprodi1',\n",
              " 'Kaprodi2',\n",
              " 'Kaprodi3',\n",
              " 'Rektor',\n",
              " 'Warek1',\n",
              " 'Warek2'}"
            ]
          },
          "metadata": {},
          "execution_count": 33
        }
      ]
    }
  ]
}